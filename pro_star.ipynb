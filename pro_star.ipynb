{
 "cells": [
  {
   "cell_type": "code",
   "execution_count": 7,
   "metadata": {},
   "outputs": [
    {
     "name": "stdout",
     "output_type": "stream",
     "text": [
      "1 \n",
      "\n",
      "1 2 \n",
      "\n",
      "1 2 3 \n",
      "\n",
      "1 2 3 4 \n",
      "\n",
      "1 2 3 4 5 \n",
      "\n"
     ]
    }
   ],
   "source": [
    "# pattern = 1\n",
    "n=5\n",
    "for i in range(1,n+1):\n",
    "    for j in range(i):\n",
    "        print(j+1, end=\" \")\n",
    "    print(\"\\n\")"
   ]
  },
  {
   "cell_type": "code",
   "execution_count": 60,
   "metadata": {},
   "outputs": [
    {
     "name": "stdout",
     "output_type": "stream",
     "text": [
      "A  \n",
      "\n",
      "A  B  \n",
      "\n",
      "A  B  C  \n",
      "\n",
      "A  B  C  D  \n",
      "\n",
      "A  B  C  D  E  \n",
      "\n"
     ]
    }
   ],
   "source": [
    "#  pattern =2\n",
    "str=\"ABCDE\"\n",
    "n=5\n",
    "for i in range(1,n+1):\n",
    "    for j in range(i):\n",
    "        print(str[j], end=\"  \")\n",
    "    print(\"\\n\")"
   ]
  },
  {
   "cell_type": "code",
   "execution_count": 1,
   "metadata": {},
   "outputs": [
    {
     "name": "stdout",
     "output_type": "stream",
     "text": [
      "* \n",
      "\n",
      "* * \n",
      "\n",
      "* * * \n",
      "\n",
      "* * * * \n",
      "\n",
      "* * * * * \n",
      "\n"
     ]
    }
   ],
   "source": [
    "#  pettern =3\n",
    "n=5\n",
    "for i in range(1,n+1):\n",
    "    for j in range(i):\n",
    "       print(\"*\",end=\" \")\n",
    "    print(\"\\n\")"
   ]
  },
  {
   "cell_type": "code",
   "execution_count": 110,
   "metadata": {},
   "outputs": [
    {
     "name": "stdout",
     "output_type": "stream",
     "text": [
      "1 \n",
      "\n",
      "2 2 \n",
      "\n",
      "3 3 3 \n",
      "\n",
      "4 4 4 4 \n",
      "\n",
      "5 5 5 5 5 \n",
      "\n"
     ]
    }
   ],
   "source": [
    "# pettern =4\n",
    "n=5\n",
    "l=0\n",
    "k=\"012345\"\n",
    "for i in range(1,n+1):\n",
    "    for j in range(i):\n",
    "        print(l+i, end=\" \")\n",
    "    print(\"\\n\")"
   ]
  },
  {
   "cell_type": "code",
   "execution_count": 73,
   "metadata": {},
   "outputs": [
    {
     "name": "stdout",
     "output_type": "stream",
     "text": [
      "A \n",
      "\n",
      "B B \n",
      "\n",
      "C C C \n",
      "\n",
      "D D D D \n",
      "\n",
      "E E E E E \n",
      "\n"
     ]
    }
   ],
   "source": [
    "# pettern =5\n",
    "n=5\n",
    "str=\"0ABCDE\"\n",
    "for i in range(1,n+1):\n",
    "    for j in range(i):\n",
    "        print(str[i] , end=\" \")\n",
    "    print(\"\\n\")"
   ]
  },
  {
   "cell_type": "code",
   "execution_count": 2,
   "metadata": {},
   "outputs": [
    {
     "name": "stdout",
     "output_type": "stream",
     "text": [
      "        * \n",
      "\n",
      "      * * \n",
      "\n",
      "    * * * \n",
      "\n",
      "  * * * * \n",
      "\n",
      "* * * * * \n",
      "\n"
     ]
    }
   ],
   "source": [
    "#  pettern = 6\n",
    "n=5\n",
    "for i in range(1,n+1):\n",
    "    # print((\" \"*((n-i)*2)),end=\" \")\n",
    "    for j in range(n-i):\n",
    "         print(\" \", end=\" \")\n",
    "    for j in range(i):\n",
    "        # print( \" \"*(n-i),\"*\",end=\" \")\n",
    "          print( \"*\" ,end=\" \")\n",
    "    print(\"\\n\")"
   ]
  },
  {
   "cell_type": "code",
   "execution_count": 174,
   "metadata": {},
   "outputs": [
    {
     "name": "stdout",
     "output_type": "stream",
     "text": [
      "     1       \n",
      "\n",
      "    1  2      \n",
      "\n",
      "   1  2  3     \n",
      "\n",
      "  1  2  3  4    \n",
      "\n",
      " 1  2  3  4  5   \n",
      "\n"
     ]
    }
   ],
   "source": [
    "# pettern =7\n",
    "n=5\n",
    "for i in range(1,n+1):\n",
    "    print((\" \"*((n-i))), end=\" \")\n",
    "    for j in range(i):\n",
    "        print(j+1, end=\"  \")\n",
    "    print((\" \"*((n-i))), end=\" \")\n",
    "    print(\"\\n\")"
   ]
  },
  {
   "cell_type": "code",
   "execution_count": 20,
   "metadata": {},
   "outputs": [
    {
     "name": "stdout",
     "output_type": "stream",
     "text": [
      "         5   \n",
      "\n",
      "       4   5   \n",
      "\n",
      "     3   4   5   \n",
      "\n",
      "   2   3   4   5   \n",
      "\n",
      " 1   2   3   4   5   \n",
      "\n"
     ]
    }
   ],
   "source": [
    "# pettern= 8   hard???\n",
    "n=5\n",
    "for i in range(1,n+1):\n",
    "    print(\"  \"*(n-i), end=\" \")\n",
    "    for j in range(i):\n",
    "        print(n-i+j+1 , end=\"   \")\n",
    "    print(\"\\n\")"
   ]
  },
  {
   "cell_type": "code",
   "execution_count": 193,
   "metadata": {},
   "outputs": [
    {
     "name": "stdout",
     "output_type": "stream",
     "text": [
      "     A      \n",
      "\n",
      "    A B     \n",
      "\n",
      "   A B C    \n",
      "\n",
      "  A B C D   \n",
      "\n",
      " A B C D E  \n",
      "\n"
     ]
    }
   ],
   "source": [
    "#  pettern = 9\n",
    "n=5\n",
    "str=\"ABCDE\"\n",
    "for i in range(1, n+1):\n",
    "    print((\" \"*(n-i)),end=\" \")\n",
    "    for j in range(i):\n",
    "        print(str[j] , end=\" \")\n",
    "    print((\" \"*(n-i)),end=\" \")\n",
    "    print(\"\\n\")"
   ]
  },
  {
   "cell_type": "code",
   "execution_count": 4,
   "metadata": {},
   "outputs": [
    {
     "name": "stdout",
     "output_type": "stream",
     "text": [
      "         E   \n",
      "\n",
      "       D   E   \n",
      "\n",
      "     C   D   E   \n",
      "\n",
      "   B   C   D   E   \n",
      "\n",
      " A   B   C   D   E   \n",
      "\n"
     ]
    }
   ],
   "source": [
    "# pettern = 10   so hard  \n",
    "n=5\n",
    "str=\"ABCDE\"\n",
    "for i in range(1,n+1):\n",
    "    print(\"  \"*(n-i), end=\" \")\n",
    "    for j in range(i):\n",
    "        k=(5+j-i)\n",
    "        print(str[k], end=\"   \")\n",
    "    print(\"\\n\")\n",
    "    "
   ]
  },
  {
   "cell_type": "code",
   "execution_count": 213,
   "metadata": {},
   "outputs": [
    {
     "name": "stdout",
     "output_type": "stream",
     "text": [
      "         *          \n",
      "\n",
      "       * * *        \n",
      "\n",
      "     * * * * *      \n",
      "\n",
      "   * * * * * * *    \n",
      "\n",
      " * * * * * * * * *  \n",
      "\n"
     ]
    }
   ],
   "source": [
    "#  pettern=11\n",
    "n=5\n",
    "for i in range(1, n+1):\n",
    "    print((\" \"*(n-i)*2), end=\" \")\n",
    "    for j in range((2*i)-1):\n",
    "        print(\"*\", end=\" \")\n",
    "    print((\" \"*(n-i)*2), end=\" \")\n",
    "    print(\"\\n\")"
   ]
  },
  {
   "cell_type": "code",
   "execution_count": 220,
   "metadata": {},
   "outputs": [
    {
     "name": "stdout",
     "output_type": "stream",
     "text": [
      "     1      \n",
      "\n",
      "    2 2     \n",
      "\n",
      "   3 3 3    \n",
      "\n",
      "  4 4 4 4   \n",
      "\n",
      " 5 5 5 5 5  \n",
      "\n"
     ]
    }
   ],
   "source": [
    "#  pettern =12\n",
    "n=5\n",
    "for i in range(1,n+1):\n",
    "    print(\" \"*(n-i) , end=\" \")\n",
    "    for j in range(i):\n",
    "        print(i , end=\" \")\n",
    "    print(\" \"*(n-i) , end=\" \")\n",
    "\n",
    "    print(\"\\n\")"
   ]
  },
  {
   "cell_type": "code",
   "execution_count": 234,
   "metadata": {},
   "outputs": [
    {
     "name": "stdout",
     "output_type": "stream",
     "text": [
      "             A     \n",
      "\n",
      "          B     B     \n",
      "\n",
      "       C     C     C     \n",
      "\n",
      "    D     D     D     D     \n",
      "\n",
      " E     E     E     E     E     \n",
      "\n"
     ]
    }
   ],
   "source": [
    "#  pettern =13\n",
    "n=5\n",
    "str=\"0ABCDE\"\n",
    "for i in range(1, n+1):\n",
    "    print(\"   \"*(n-i) , end=\" \")\n",
    "    for j in range(i):\n",
    "        print(str[i] , end=\"     \")\n",
    "    print(\"\\n\")\n"
   ]
  },
  {
   "cell_type": "code",
   "execution_count": 246,
   "metadata": {},
   "outputs": [
    {
     "name": "stdout",
     "output_type": "stream",
     "text": [
      "1 2 3 4 5 \n",
      "\n",
      "1 2 3 4 \n",
      "\n",
      "1 2 3 \n",
      "\n",
      "1 2 \n",
      "\n",
      "1 \n",
      "\n"
     ]
    }
   ],
   "source": [
    "#  pettern =14 \n",
    "n=5\n",
    "for i in range(n,0,-1):\n",
    "    for j in range(i):\n",
    "        print(j+1, end=\" \")\n",
    "    print(\"\\n\")"
   ]
  },
  {
   "cell_type": "code",
   "execution_count": 6,
   "metadata": {},
   "outputs": [
    {
     "name": "stdout",
     "output_type": "stream",
     "text": [
      "5 4 3 2 1 \n",
      "\n",
      "4 3 2 1 \n",
      "\n",
      "3 2 1 \n",
      "\n",
      "2 1 \n",
      "\n",
      "1 \n",
      "\n"
     ]
    }
   ],
   "source": [
    "#  pettern = 15\n",
    "n=5\n",
    "for i in range(n,0,-1):\n",
    "    for j in range(i, 0, -1):\n",
    "        print(j , end=\" \")\n",
    "    print(\"\\n\")\n"
   ]
  },
  {
   "cell_type": "code",
   "execution_count": 384,
   "metadata": {},
   "outputs": [
    {
     "name": "stdout",
     "output_type": "stream",
     "text": [
      "5 \n",
      "\n",
      "5 4 \n",
      "\n",
      "5 4 3 \n",
      "\n",
      "5 4 3 2 \n",
      "\n",
      "5 4 3 2 1 \n",
      "\n"
     ]
    }
   ],
   "source": [
    "#  pettern=16\n",
    "n=5\n",
    "for i in range(1, n+1):\n",
    "    for j in range(i):\n",
    "        print(n-j, end=\" \")\n",
    "    print(\"\\n\")"
   ]
  },
  {
   "cell_type": "code",
   "execution_count": 18,
   "metadata": {},
   "outputs": [
    {
     "name": "stdout",
     "output_type": "stream",
     "text": [
      "1 \n",
      "\n",
      "2 3 \n",
      "\n",
      "4 5 6 \n",
      "\n",
      "7 8 9 10 \n",
      "\n",
      "11 12 13 14 15 \n",
      "\n"
     ]
    }
   ],
   "source": [
    "#  pettern =17\n",
    "n=5\n",
    "k+1\n",
    "for i in range(1,n+1):\n",
    "    for j in range(i):\n",
    "\n",
    "        print(k , end=\" \")\n",
    "        k+=1\n",
    "    print(\"\\n\")"
   ]
  },
  {
   "cell_type": "code",
   "execution_count": 421,
   "metadata": {},
   "outputs": [
    {
     "name": "stdout",
     "output_type": "stream",
     "text": [
      "A B C D E \n",
      "\n",
      "A B C D \n",
      "\n",
      "A B C \n",
      "\n",
      "A B \n",
      "\n",
      "A \n",
      "\n"
     ]
    }
   ],
   "source": [
    "#  pettern = 18\n",
    "n=5 \n",
    "str=\"ABCDE\"\n",
    "for i in range(n,0,-1):\n",
    "    for j in range(i):\n",
    "        print(str[j], end=\" \")\n",
    "    print(\"\\n\")\n"
   ]
  }
 ],
 "metadata": {
  "kernelspec": {
   "display_name": "Python 3",
   "language": "python",
   "name": "python3"
  },
  "language_info": {
   "codemirror_mode": {
    "name": "ipython",
    "version": 3
   },
   "file_extension": ".py",
   "mimetype": "text/x-python",
   "name": "python",
   "nbconvert_exporter": "python",
   "pygments_lexer": "ipython3",
   "version": "3.11.2"
  },
  "orig_nbformat": 4
 },
 "nbformat": 4,
 "nbformat_minor": 2
}
